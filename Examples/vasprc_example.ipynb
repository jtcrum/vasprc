{
 "cells": [
  {
   "cell_type": "code",
   "execution_count": 4,
   "metadata": {},
   "outputs": [],
   "source": [
    "from vasprc import *\n",
    "from ase.calculators.vasp import Vasp\n",
    "from ase.build import molecule\n",
    "from ase.visualize import view"
   ]
  },
  {
   "cell_type": "code",
   "execution_count": null,
   "metadata": {},
   "outputs": [],
   "source": [
    "atoms = molecule('H2O',pbc=True)\n",
    "atoms.center(vacuum=5)\n",
    "view(atoms)"
   ]
  },
  {
   "cell_type": "markdown",
   "metadata": {},
   "source": [
    "**rc is the function to edit your runvasp script**\n",
    "\n",
    "Inputs:\n",
    "- **q** - queueu to target \n",
    "    - *@@schneider_d12chas\n",
    "    - *@@schneider_q16copt\n",
    "    - *@@schneider_d24cepyc\n",
    "    - *long\n",
    "- **pe** - Parallel environment\n",
    "    - mpi-[cores per node]\n",
    "- **nprocs** - number of processors to use\n",
    "    - should be a multiple of the number of cores for node"
   ]
  },
  {
   "cell_type": "code",
   "execution_count": 6,
   "metadata": {},
   "outputs": [],
   "source": [
    "rc(q = '*@@schneider_d12chas',pe='mpi-24',nprocs=24)"
   ]
  },
  {
   "cell_type": "code",
   "execution_count": null,
   "metadata": {},
   "outputs": [],
   "source": [
    "calc = Vasp(directory='h2o',\n",
    "            xc = 'pbe',\n",
    "            encut=400,\n",
    "            ibrion = 1,\n",
    "            edifg = -.03,\n",
    "            ediff = 1e-4,\n",
    "            nsw = 20)\n",
    "calc.calculate(atoms)"
   ]
  }
 ],
 "metadata": {
  "kernelspec": {
   "display_name": "Python 3",
   "language": "python",
   "name": "python3"
  },
  "language_info": {
   "codemirror_mode": {
    "name": "ipython",
    "version": 3
   },
   "file_extension": ".py",
   "mimetype": "text/x-python",
   "name": "python",
   "nbconvert_exporter": "python",
   "pygments_lexer": "ipython3",
   "version": "3.7.3"
  }
 },
 "nbformat": 4,
 "nbformat_minor": 2
}
